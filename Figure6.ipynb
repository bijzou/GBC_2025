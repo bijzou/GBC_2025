##import data 
##Mean_Fe.xlsx and Mean_S.xlsx are in 
mean_Fe = pd.read_excel('Mean_Fe.xlsx')
mean_S = pd.read_excel('Mean_S.xlsx')

fig, axs = plt.subplots(nrows = 3, ncols = 2,figsize=(7.5, 10))


sbn.regplot(data= mean_S, x='T', y= 'Cl_mean',ax = axs[0,0],dropna=True)
sbn.regplot(data= mean_S, x='T', y= 'S_d34S max',ax = axs[1,0],dropna=True, label = 'Max')
sbn.regplot(data= mean_S, x='T', y= 'SCl_min',ax = axs[2,0],dropna=True)
sbn.regplot(data= mean_S, x='T', y= 'SCl_surf',ax = axs[2,0],dropna=True)
sbn.regplot(data= mean_Fe, x='T', y= 'Cl_mean',ax = axs[0,1],dropna=True)
sbn.regplot(data= mean_Fe, x='T', y= 'F_d34S max',ax = axs[1,1],dropna=True, label = 'Max')
sbn.regplot(data= mean_Fe, x='T', y= 'F_d34S_surf', ax = axs[1,1],dropna=True, label = 'surface')
sbn.regplot(data= mean_Fe, x='T', y= 'SCl_min',ax = axs[2,1],dropna=True)
sbn.regplot(data= mean_Fe, x='T', y= 'SCl_surf',ax = axs[2,1],dropna=True)

axs[0,0].errorbar(mean_S['T'], mean_S['Cl_mean'], yerr=mean_S['Cl_e'],fmt='none',ecolor='b', capsize=5, linestyle='none')
axs[0,1].errorbar(mean_Fe['T'], mean_Fe['Cl_mean'], yerr=mean_Fe['Cl_e'],fmt='none',ecolor='b', capsize=5, linestyle='none')
#D_p= stats.pearsonr(mean_S['T'], mean_S[5.3])
#E_p = stats.pearsonr(mean_Fe['T'], mean_Fe[5])
#F_p = stats.pearsonr(mean_Fe['T'], mean_Fe'Flux'])

#E2_p = stats.pearsonr(mean_Fe['T'], mean_Fe['Flux'])

axs[0,0].set_ylabel('Chloride conc. (mM)', fontsize = 11)
axs[0,1].set_ylabel('Chloride conc. (mM)', fontsize = 11)
axs[1,0].set_ylabel('$\delta^{34}S_{SO4}$ ($\perthousand$)', fontsize = 11)
axs[1,1].set_ylabel('$\delta^{34}S_{SO4}$ ($\perthousand$)', fontsize = 11)
axs[2,0].set_ylabel('[SO$_{4}^{2-}$]/[Cl$^{-}]$', fontsize = 11)
axs[2,1].set_ylabel('[SO$_{4}^{2-}$]/[Cl$^{-}]$', fontsize = 11)
axs[0,0].set_xlabel('T ($\circ$C)', fontsize = 11)
axs[0,1].set_xlabel('T ($\circ$C)', fontsize = 11)
axs[2,0].set_xlabel('T ($\circ$C)', fontsize = 11)
axs[1,0].set_xlabel('T ($\circ$C)', fontsize = 11)
axs[1,1].set_xlabel('T ($\circ$C)', fontsize = 11)
axs[2,1].set_xlabel('T ($\circ$C)', fontsize = 11)
axs[0,0].set_xlim(0, 20)
axs[1,0].set_xlim(0, 20)
axs[2,0].set_xlim(0, 20)
axs[0,1].set_xlim(0, 20)
axs[1,1].set_xlim(0, 20)
axs[2,1].set_xlim(0, 20)
axs[0,0].set_ylim(300,600)
axs[1,0].set_ylim(30,80)
axs[2,0].set_ylim(0, 0.055)
axs[0,1].set_ylim(300,600)
axs[1,1].set_ylim(10, 30)
axs[2,1].set_ylim(0.03, 0.055)

axs[0,0].text(1,310,'A', fontsize = 20)
axs[1,0].text(1,32,'B', fontsize = 20)
axs[2,0].text(1,0.001,'C', fontsize = 20)
axs[0,1].text(1,310,'D', fontsize = 20)
axs[1,1].text(1,11,'E', fontsize = 20)

axs[2,1].text(1,0.031,'F', fontsize = 20)

#the statistical values are on excel sheet mean_S and mean_Fe in the GCA_rejection folder on the laptop
axs[0,0].text(3, 500, 'R${^2}$ ='f'0.72'', p < 0.05', c  = 'b')
axs[1,0].text(3, 40, 'Maximum: R${^2}$ ='f'0.51'', p < 0.05', c  = 'b')
axs[2,0].text(3, 0.04, 'Surface: R${^2}$ ='f'0.50'', p < 0.05', c  = 'r')
axs[2,0].text(3, 0.005, 'Minimum: R${^2}$ ='f'0.60'', p < 0.05', c  = 'b')
axs[0,1].text(3, 500, 'R${^2}$ ='f'0.63'', p < 0.05', c  = 'b')
axs[1,1].text(3, 28, 'Maximum: p > 0.05', c  = 'b')
axs[1,1].text(3, 17.5, 'Surface: R${^2}$ ='f'0.83'', p < 0.05', c  = 'r')
axs[2,1].text(3, 0.053, 'Surface: R${^2}$ ='f'0.33'', p < 0.05', c  = 'r')
axs[2,1].text(3, 0.035, 'Minimum: R${^2}$ ='f'0.32'', p < 0.05', c  = 'b')

axs[0,0].text(7, 605, "Sulfidic",fontsize = 15)
axs[0,1].text(5, 605, "Ferruginous",fontsize = 15 )

plt.tight_layout()
plt.savefig("xplot_mon.pdf",format = 'pdf', dpi=600)

files.download("xplot_mon.pdf")
