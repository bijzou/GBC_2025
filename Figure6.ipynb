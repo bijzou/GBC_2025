{
  "nbformat": 4,
  "nbformat_minor": 0,
  "metadata": {
    "colab": {
      "provenance": []
    },
    "kernelspec": {
      "name": "python3",
      "display_name": "Python 3"
    },
    "language_info": {
      "name": "python"
    }
  },
  "cells": [
    {
      "cell_type": "code",
      "execution_count": null,
      "metadata": {
        "id": "Kl2z2l06BV4O"
      },
      "outputs": [],
      "source": [
        "import matplotlib as mpl\n",
        "from matplotlib import pyplot as plt\n",
        "import pandas as pd\n",
        "import numpy as np\n",
        "import plotly.express as px\n",
        "import seaborn as sbn\n",
        "from google.colab import files\n",
        "#import data\n",
        "mean_Fe = pd.read_excel('Mean_Fe.xlsx')\n",
        "mean_S = pd.read_excel('Mean_S.xlsx')"
      ]
    },
    {
      "cell_type": "code",
      "source": [
        "#plot figure\n",
        "\n",
        "\n",
        "#use seaborn regplot\n",
        "fig, axs = plt.subplots(nrows = 3, ncols = 2,figsize=(7.5, 10))\n",
        "\n",
        "###those line calculate R, p values in the pearson correlation\n",
        "#D_p= stats.pearsonr(mean_S['T'], mean_S[5.3])\n",
        "#E_p = stats.pearsonr(mean_Fe['T'], mean_Fe[5])\n",
        "#F_p = stats.pearsonr(mean_Fe['T'], mean_Fe'Flux'])\n",
        "\n",
        "#E2_p = stats.pearsonr(mean_Fe['T'], mean_Fe['Flux'])\n",
        "\n",
        "sbn.regplot(data= mean_S, x='T', y= 'Cl_mean',ax = axs[0,0],dropna=True)\n",
        "sbn.regplot(data= mean_S, x='T', y= 'S_d34S max',ax = axs[1,0],dropna=True, label = 'Max')\n",
        "sbn.regplot(data= mean_S, x='T', y= 'SCl_min',ax = axs[2,0],dropna=True)\n",
        "sbn.regplot(data= mean_S, x='T', y= 'SCl_surf',ax = axs[2,0],dropna=True)\n",
        "sbn.regplot(data= mean_Fe, x='T', y= 'Cl_mean',ax = axs[0,1],dropna=True)\n",
        "sbn.regplot(data= mean_Fe, x='T', y= 'F_d34S max',ax = axs[1,1],dropna=True, label = 'Max')\n",
        "sbn.regplot(data= mean_Fe, x='T', y= 'F_d34S_surf', ax = axs[1,1],dropna=True, label = 'surface')\n",
        "sbn.regplot(data= mean_Fe, x='T', y= 'SCl_min',ax = axs[2,1],dropna=True)\n",
        "sbn.regplot(data= mean_Fe, x='T', y= 'SCl_surf',ax = axs[2,1],dropna=True)\n",
        "\n",
        "axs[0,0].errorbar(mean_S['T'], mean_S['Cl_mean'], yerr=mean_S['Cl_e'],fmt='none',ecolor='b', capsize=5, linestyle='none')\n",
        "axs[0,1].errorbar(mean_Fe['T'], mean_Fe['Cl_mean'], yerr=mean_Fe['Cl_e'],fmt='none',ecolor='b', capsize=5, linestyle='none')\n",
        "\n",
        "\n",
        "axs[0,0].set_ylabel('Chloride conc. (mM)', fontsize = 11)\n",
        "axs[0,1].set_ylabel('Chloride conc. (mM)', fontsize = 11)\n",
        "axs[1,0].set_ylabel('$\\delta^{34}S_{SO4}$ ($\\perthousand$)', fontsize = 11)\n",
        "axs[1,1].set_ylabel('$\\delta^{34}S_{SO4}$ ($\\perthousand$)', fontsize = 11)\n",
        "axs[2,0].set_ylabel('[SO$_{4}^{2-}$]/[Cl$^{-}]$', fontsize = 11)\n",
        "axs[2,1].set_ylabel('[SO$_{4}^{2-}$]/[Cl$^{-}]$', fontsize = 11)\n",
        "axs[0,0].set_xlabel('T ($\\circ$C)', fontsize = 11)\n",
        "axs[0,1].set_xlabel('T ($\\circ$C)', fontsize = 11)\n",
        "axs[2,0].set_xlabel('T ($\\circ$C)', fontsize = 11)\n",
        "axs[1,0].set_xlabel('T ($\\circ$C)', fontsize = 11)\n",
        "axs[1,1].set_xlabel('T ($\\circ$C)', fontsize = 11)\n",
        "axs[2,1].set_xlabel('T ($\\circ$C)', fontsize = 11)\n",
        "axs[0,0].set_xlim(0, 20)\n",
        "axs[1,0].set_xlim(0, 20)\n",
        "axs[2,0].set_xlim(0, 20)\n",
        "axs[0,1].set_xlim(0, 20)\n",
        "axs[1,1].set_xlim(0, 20)\n",
        "axs[2,1].set_xlim(0, 20)\n",
        "axs[0,0].set_ylim(300,600)\n",
        "axs[1,0].set_ylim(30,80)\n",
        "axs[2,0].set_ylim(0, 0.055)\n",
        "axs[0,1].set_ylim(300,600)\n",
        "axs[1,1].set_ylim(10, 30)\n",
        "axs[2,1].set_ylim(0.03, 0.055)\n",
        "\n",
        "axs[0,0].text(1,310,'A', fontsize = 20)\n",
        "axs[1,0].text(1,32,'B', fontsize = 20)\n",
        "axs[2,0].text(1,0.001,'C', fontsize = 20)\n",
        "axs[0,1].text(1,310,'D', fontsize = 20)\n",
        "axs[1,1].text(1,11,'E', fontsize = 20)\n",
        "\n",
        "axs[2,1].text(1,0.031,'F', fontsize = 20)\n",
        "\n",
        "#the statistical values are on excel sheet mean_S and mean_Fe\n",
        "axs[0,0].text(3, 500, 'R${^2}$ ='f'0.72'', p < 0.05', c  = 'b')\n",
        "axs[1,0].text(3, 40, 'Maximum: R${^2}$ ='f'0.51'', p < 0.05', c  = 'b')\n",
        "axs[2,0].text(3, 0.04, 'Surface: R${^2}$ ='f'0.50'', p < 0.05', c  = 'r')\n",
        "axs[2,0].text(3, 0.005, 'Minimum: R${^2}$ ='f'0.60'', p < 0.05', c  = 'b')\n",
        "axs[0,1].text(3, 500, 'R${^2}$ ='f'0.63'', p < 0.05', c  = 'b')\n",
        "axs[1,1].text(3, 28, 'Maximum: p > 0.05', c  = 'b')\n",
        "axs[1,1].text(3, 17.5, 'Surface: R${^2}$ ='f'0.83'', p < 0.05', c  = 'r')\n",
        "axs[2,1].text(3, 0.053, 'Surface: R${^2}$ ='f'0.33'', p < 0.05', c  = 'r')\n",
        "axs[2,1].text(3, 0.035, 'Minimum: R${^2}$ ='f'0.32'', p < 0.05', c  = 'b')\n",
        "\n",
        "axs[0,0].text(7, 605, \"Sulfidic\",fontsize = 15)\n",
        "axs[0,1].text(5, 605, \"Ferruginous\",fontsize = 15 )\n",
        "\n",
        "plt.tight_layout()\n",
        "plt.savefig(\"xplot_mon.pdf\",format = 'pdf', dpi=600)\n",
        "\n",
        "files.download(\"xplot_mon.pdf\")"
      ],
      "metadata": {
        "id": "kR_k9x9jBeT9"
      },
      "execution_count": null,
      "outputs": []
    },
    {
      "cell_type": "code",
      "source": [
        "#stats\n"
      ],
      "metadata": {
        "id": "g6K9uGrZBn-W"
      },
      "execution_count": null,
      "outputs": []
    }
  ]
}